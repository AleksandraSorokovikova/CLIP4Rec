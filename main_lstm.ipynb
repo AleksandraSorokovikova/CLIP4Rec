{
 "cells": [
  {
   "cell_type": "code",
   "execution_count": 1,
   "metadata": {},
   "outputs": [
    {
     "name": "stdout",
     "output_type": "stream",
     "text": [
      "Using device: cuda\n"
     ]
    }
   ],
   "source": [
    "import torch\n",
    "import pickle\n",
    "import pandas as pd\n",
    "import numpy as np\n",
    "from src.train import *\n",
    "from src.processing import *\n",
    "from src.models import *\n",
    "from src.inference import *\n",
    "from sklearn.model_selection import train_test_split\n",
    "from transformers import BertTokenizer, BertModel\n",
    "from torch.utils.data import Dataset, DataLoader\n",
    "\n",
    "torch.manual_seed(42)\n",
    "np.random.seed(42)\n",
    "\n",
    "device = torch.device(\"cuda\" if torch.cuda.is_available() else \"cpu\")\n",
    "print(\"Using device:\", device)\n",
    "\n",
    "torch.cuda.empty_cache()"
   ]
  },
  {
   "cell_type": "code",
   "execution_count": 2,
   "metadata": {},
   "outputs": [
    {
     "name": "stderr",
     "output_type": "stream",
     "text": [
      "/teamspace/studios/this_studio/CLIP4Rec/src/processing.py:20: DtypeWarning: Columns (10) have mixed types. Specify dtype option on import or set low_memory=False.\n",
      "  movies_metadata = pd.read_csv(movies_metadata_path)\n"
     ]
    }
   ],
   "source": [
    "vocab = Vocabulary()\n",
    "ratings_df, movie_descriptions, movies_metadata = create_ratings_df(\n",
    "    number_of_movies=7500,\n",
    "    links_path='CLIP4Rec/archive/links.csv',\n",
    "    movies_metadata_path='CLIP4Rec/archive/movies_metadata.csv',\n",
    "    ratings_path='CLIP4Rec/archive/ratings.csv'\n",
    "    )\n",
    "sequences = get_sequences(ratings_df)\n",
    "vocab.build_vocab(sequences)\n",
    "\n",
    "train_sentences, val_sentences = train_test_split(sequences, test_size=0.2, random_state=42)\n",
    "\n",
    "train_dataset = MoviesDataset(train_sentences, vocab)\n",
    "val_dataset = MoviesDataset(val_sentences, vocab)\n",
    "\n",
    "\n",
    "collate_fn = CollateFunction(pad_idx=vocab.word_to_idx(\"<PAD>\"))\n",
    "\n",
    "train_dataloader = DataLoader(train_dataset, batch_size=128, shuffle=True, collate_fn=collate_fn)\n",
    "val_dataloader = DataLoader(val_dataset, batch_size=128, shuffle=False, collate_fn=collate_fn)\n",
    "\n",
    "epochs = 25\n",
    "batch_size = 128\n",
    "lr = 0.0001\n",
    "\n",
    "train_loader = DataLoader(train_dataset, batch_size=batch_size, shuffle=True)\n",
    "val_loader = DataLoader(val_dataset, batch_size=batch_size, shuffle=False)"
   ]
  },
  {
   "cell_type": "code",
   "execution_count": 3,
   "metadata": {},
   "outputs": [],
   "source": [
    "film_encoder = SASFilmEncoder(item_num=len(vocab.word_to_index), seq_len=seq_len, embed_dim=384, device=device)"
   ]
  },
  {
   "cell_type": "code",
   "execution_count": 4,
   "metadata": {},
   "outputs": [
    {
     "name": "stdout",
     "output_type": "stream",
     "text": [
      "Epoch 1\n",
      "\n"
     ]
    },
    {
     "name": "stderr",
     "output_type": "stream",
     "text": [
      "100%|██████████| 6759/6759 [01:19<00:00, 84.60it/s]\n"
     ]
    },
    {
     "name": "stdout",
     "output_type": "stream",
     "text": [
      "Train Loss: 6.6708\n",
      "Train Accuracy: 0.0235\n",
      "\n",
      "Val Loss: 6.3416\n",
      "Val Accuracy: 0.0319\n",
      "\n",
      "Epoch 2\n",
      "\n"
     ]
    },
    {
     "name": "stderr",
     "output_type": "stream",
     "text": [
      "100%|██████████| 6759/6759 [01:19<00:00, 84.73it/s]\n"
     ]
    },
    {
     "name": "stdout",
     "output_type": "stream",
     "text": [
      "Train Loss: 6.2196\n",
      "Train Accuracy: 0.0368\n",
      "\n",
      "Val Loss: 6.1855\n",
      "Val Accuracy: 0.0385\n",
      "\n",
      "Epoch 3\n",
      "\n"
     ]
    },
    {
     "name": "stderr",
     "output_type": "stream",
     "text": [
      "100%|██████████| 6759/6759 [01:20<00:00, 84.20it/s]\n"
     ]
    },
    {
     "name": "stdout",
     "output_type": "stream",
     "text": [
      "Train Loss: 6.0263\n",
      "Train Accuracy: 0.0442\n",
      "\n",
      "Val Loss: 6.1166\n",
      "Val Accuracy: 0.0420\n",
      "\n",
      "Epoch 4\n",
      "\n"
     ]
    },
    {
     "name": "stderr",
     "output_type": "stream",
     "text": [
      "100%|██████████| 6759/6759 [01:20<00:00, 83.51it/s]\n"
     ]
    },
    {
     "name": "stdout",
     "output_type": "stream",
     "text": [
      "Train Loss: 5.8654\n",
      "Train Accuracy: 0.0508\n",
      "\n",
      "Val Loss: 6.0999\n",
      "Val Accuracy: 0.0443\n",
      "\n",
      "Epoch 5\n",
      "\n"
     ]
    },
    {
     "name": "stderr",
     "output_type": "stream",
     "text": [
      "100%|██████████| 6759/6759 [01:20<00:00, 83.80it/s]\n"
     ]
    },
    {
     "name": "stdout",
     "output_type": "stream",
     "text": [
      "Train Loss: 5.7107\n",
      "Train Accuracy: 0.0575\n",
      "\n",
      "Val Loss: 6.1048\n",
      "Val Accuracy: 0.0457\n",
      "\n",
      "Epoch 6\n",
      "\n"
     ]
    },
    {
     "name": "stderr",
     "output_type": "stream",
     "text": [
      "100%|██████████| 6759/6759 [01:20<00:00, 83.70it/s]\n"
     ]
    },
    {
     "name": "stdout",
     "output_type": "stream",
     "text": [
      "Train Loss: 5.5565\n",
      "Train Accuracy: 0.0655\n",
      "\n",
      "Val Loss: 6.1408\n",
      "Val Accuracy: 0.0459\n",
      "\n",
      "Epoch 7\n",
      "\n"
     ]
    },
    {
     "name": "stderr",
     "output_type": "stream",
     "text": [
      "100%|██████████| 6759/6759 [01:20<00:00, 83.74it/s]\n"
     ]
    },
    {
     "name": "stdout",
     "output_type": "stream",
     "text": [
      "Train Loss: 5.4003\n",
      "Train Accuracy: 0.0745\n",
      "\n",
      "Val Loss: 6.1927\n",
      "Val Accuracy: 0.0454\n",
      "\n",
      "Epoch 8\n",
      "\n"
     ]
    },
    {
     "name": "stderr",
     "output_type": "stream",
     "text": [
      "100%|██████████| 6759/6759 [01:20<00:00, 83.90it/s]\n"
     ]
    },
    {
     "name": "stdout",
     "output_type": "stream",
     "text": [
      "Train Loss: 5.2425\n",
      "Train Accuracy: 0.0845\n",
      "\n",
      "Val Loss: 6.2658\n",
      "Val Accuracy: 0.0447\n",
      "\n",
      "Epoch 9\n",
      "\n"
     ]
    },
    {
     "name": "stderr",
     "output_type": "stream",
     "text": [
      "100%|██████████| 6759/6759 [01:20<00:00, 84.07it/s]\n"
     ]
    },
    {
     "name": "stdout",
     "output_type": "stream",
     "text": [
      "Train Loss: 5.0829\n",
      "Train Accuracy: 0.0960\n",
      "\n",
      "Val Loss: 6.3445\n",
      "Val Accuracy: 0.0442\n",
      "\n",
      "Epoch 10\n",
      "\n"
     ]
    },
    {
     "name": "stderr",
     "output_type": "stream",
     "text": [
      "100%|██████████| 6759/6759 [01:20<00:00, 83.82it/s]\n"
     ]
    },
    {
     "name": "stdout",
     "output_type": "stream",
     "text": [
      "Train Loss: 4.9248\n",
      "Train Accuracy: 0.1091\n",
      "\n",
      "Val Loss: 6.4370\n",
      "Val Accuracy: 0.0433\n",
      "\n",
      "Epoch 11\n",
      "\n"
     ]
    },
    {
     "name": "stderr",
     "output_type": "stream",
     "text": [
      "100%|██████████| 6759/6759 [01:20<00:00, 83.81it/s]\n"
     ]
    },
    {
     "name": "stdout",
     "output_type": "stream",
     "text": [
      "Train Loss: 4.7709\n",
      "Train Accuracy: 0.1231\n",
      "\n",
      "Val Loss: 6.5491\n",
      "Val Accuracy: 0.0414\n",
      "\n",
      "Epoch 12\n",
      "\n"
     ]
    },
    {
     "name": "stderr",
     "output_type": "stream",
     "text": [
      "100%|██████████| 6759/6759 [01:20<00:00, 83.64it/s]\n"
     ]
    },
    {
     "name": "stdout",
     "output_type": "stream",
     "text": [
      "Train Loss: 4.6241\n",
      "Train Accuracy: 0.1371\n",
      "\n",
      "Val Loss: 6.6668\n",
      "Val Accuracy: 0.0418\n",
      "\n",
      "Epoch 13\n",
      "\n"
     ]
    },
    {
     "name": "stderr",
     "output_type": "stream",
     "text": [
      "100%|██████████| 6759/6759 [01:20<00:00, 84.16it/s]\n"
     ]
    },
    {
     "name": "stdout",
     "output_type": "stream",
     "text": [
      "Train Loss: 4.4822\n",
      "Train Accuracy: 0.1517\n",
      "\n",
      "Val Loss: 6.7783\n",
      "Val Accuracy: 0.0404\n",
      "\n",
      "Epoch 14\n",
      "\n"
     ]
    },
    {
     "name": "stderr",
     "output_type": "stream",
     "text": [
      "100%|██████████| 6759/6759 [01:20<00:00, 83.96it/s]\n"
     ]
    },
    {
     "name": "stdout",
     "output_type": "stream",
     "text": [
      "Train Loss: 4.3488\n",
      "Train Accuracy: 0.1666\n",
      "\n",
      "Val Loss: 6.8822\n",
      "Val Accuracy: 0.0398\n",
      "\n",
      "Epoch 15\n",
      "\n"
     ]
    },
    {
     "name": "stderr",
     "output_type": "stream",
     "text": [
      "100%|██████████| 6759/6759 [01:20<00:00, 83.82it/s]\n"
     ]
    },
    {
     "name": "stdout",
     "output_type": "stream",
     "text": [
      "Train Loss: 4.2240\n",
      "Train Accuracy: 0.1804\n",
      "\n",
      "Val Loss: 7.0050\n",
      "Val Accuracy: 0.0389\n",
      "\n",
      "Epoch 16\n",
      "\n"
     ]
    },
    {
     "name": "stderr",
     "output_type": "stream",
     "text": [
      "100%|██████████| 6759/6759 [01:20<00:00, 83.89it/s]\n"
     ]
    },
    {
     "name": "stdout",
     "output_type": "stream",
     "text": [
      "Train Loss: 4.1070\n",
      "Train Accuracy: 0.1943\n",
      "\n",
      "Val Loss: 7.1194\n",
      "Val Accuracy: 0.0381\n",
      "\n",
      "Epoch 17\n",
      "\n"
     ]
    },
    {
     "name": "stderr",
     "output_type": "stream",
     "text": [
      "100%|██████████| 6759/6759 [01:20<00:00, 83.91it/s]\n"
     ]
    },
    {
     "name": "stdout",
     "output_type": "stream",
     "text": [
      "Train Loss: 3.9959\n",
      "Train Accuracy: 0.2074\n",
      "\n",
      "Val Loss: 7.2326\n",
      "Val Accuracy: 0.0373\n",
      "\n",
      "Epoch 18\n",
      "\n"
     ]
    },
    {
     "name": "stderr",
     "output_type": "stream",
     "text": [
      "100%|██████████| 6759/6759 [01:20<00:00, 83.88it/s]\n"
     ]
    },
    {
     "name": "stdout",
     "output_type": "stream",
     "text": [
      "Train Loss: 3.8950\n",
      "Train Accuracy: 0.2199\n",
      "\n",
      "Val Loss: 7.3318\n",
      "Val Accuracy: 0.0365\n",
      "\n",
      "Epoch 19\n",
      "\n"
     ]
    },
    {
     "name": "stderr",
     "output_type": "stream",
     "text": [
      "100%|██████████| 6759/6759 [01:20<00:00, 83.81it/s]\n"
     ]
    },
    {
     "name": "stdout",
     "output_type": "stream",
     "text": [
      "Train Loss: 3.7972\n",
      "Train Accuracy: 0.2323\n",
      "\n",
      "Val Loss: 7.4392\n",
      "Val Accuracy: 0.0364\n",
      "\n",
      "Epoch 20\n",
      "\n"
     ]
    },
    {
     "name": "stderr",
     "output_type": "stream",
     "text": [
      "100%|██████████| 6759/6759 [01:20<00:00, 83.70it/s]\n"
     ]
    },
    {
     "name": "stdout",
     "output_type": "stream",
     "text": [
      "Train Loss: 3.7105\n",
      "Train Accuracy: 0.2425\n",
      "\n",
      "Val Loss: 7.5325\n",
      "Val Accuracy: 0.0357\n",
      "\n",
      "Epoch 21\n",
      "\n"
     ]
    },
    {
     "name": "stderr",
     "output_type": "stream",
     "text": [
      "100%|██████████| 6759/6759 [01:20<00:00, 83.85it/s]\n"
     ]
    },
    {
     "name": "stdout",
     "output_type": "stream",
     "text": [
      "Train Loss: 3.6252\n",
      "Train Accuracy: 0.2537\n",
      "\n",
      "Val Loss: 7.6324\n",
      "Val Accuracy: 0.0359\n",
      "\n",
      "Epoch 22\n",
      "\n"
     ]
    },
    {
     "name": "stderr",
     "output_type": "stream",
     "text": [
      "100%|██████████| 6759/6759 [01:20<00:00, 83.78it/s]\n"
     ]
    },
    {
     "name": "stdout",
     "output_type": "stream",
     "text": [
      "Train Loss: 3.5487\n",
      "Train Accuracy: 0.2641\n",
      "\n",
      "Val Loss: 7.7439\n",
      "Val Accuracy: 0.0356\n",
      "\n",
      "Epoch 23\n",
      "\n"
     ]
    },
    {
     "name": "stderr",
     "output_type": "stream",
     "text": [
      "100%|██████████| 6759/6759 [01:20<00:00, 83.88it/s]\n"
     ]
    },
    {
     "name": "stdout",
     "output_type": "stream",
     "text": [
      "Train Loss: 3.4801\n",
      "Train Accuracy: 0.2728\n",
      "\n",
      "Val Loss: 7.8124\n",
      "Val Accuracy: 0.0349\n",
      "\n",
      "Epoch 24\n",
      "\n"
     ]
    },
    {
     "name": "stderr",
     "output_type": "stream",
     "text": [
      "100%|██████████| 6759/6759 [01:20<00:00, 83.91it/s]\n"
     ]
    },
    {
     "name": "stdout",
     "output_type": "stream",
     "text": [
      "Train Loss: 3.4126\n",
      "Train Accuracy: 0.2822\n",
      "\n",
      "Val Loss: 7.9112\n",
      "Val Accuracy: 0.0343\n",
      "\n",
      "Epoch 25\n",
      "\n"
     ]
    },
    {
     "name": "stderr",
     "output_type": "stream",
     "text": [
      "100%|██████████| 6759/6759 [01:20<00:00, 84.04it/s]\n"
     ]
    },
    {
     "name": "stdout",
     "output_type": "stream",
     "text": [
      "Train Loss: 3.3499\n",
      "Train Accuracy: 0.2901\n",
      "\n",
      "Val Loss: 7.9901\n",
      "Val Accuracy: 0.0344\n",
      "\n"
     ]
    }
   ],
   "source": [
    "train_recommender(film_encoder, train_dataloader, val_dataloader, epochs=epochs, lr=lr, device=device)"
   ]
  },
  {
   "cell_type": "code",
   "execution_count": 7,
   "metadata": {},
   "outputs": [
    {
     "name": "stdout",
     "output_type": "stream",
     "text": [
      "1\n"
     ]
    }
   ],
   "source": [
    "print(1)"
   ]
  },
  {
   "cell_type": "code",
   "execution_count": null,
   "metadata": {},
   "outputs": [],
   "source": []
  },
  {
   "cell_type": "code",
   "execution_count": 6,
   "metadata": {},
   "outputs": [],
   "source": [
    "# torch.save(film_encoder.state_dict(), 'CLIP4Rec/artifacts/film_encoder_weights_test.pth')\n",
    "# torch.save(text_encoder.state_dict(), 'CLIP4Rec/artifacts/text_encoder_weights_test.pth')\n",
    "\n",
    "# torch.save(train_dataset, 'CLIP4Rec/artifacts/train_dataset.pt')\n",
    "# torch.save(val_dataset, 'CLIP4Rec/artifacts/val_dataset.pt')\n",
    "\n",
    "# with open('CLIP4Rec/artifacts/ratings_df.pickle', 'wb') as f:\n",
    "#   pickle.dump(ratings_df, f)\n",
    "\n",
    "# with open('CLIP4Rec/artifacts/movie_descriptions.pickle', 'wb') as f:\n",
    "#   pickle.dump(movie_descriptions, f)\n",
    "\n",
    "# with open('CLIP4Rec/artifacts/sequences.pickle', 'wb') as f:\n",
    "#   pickle.dump(sequences, f)\n",
    "\n",
    "# with open('CLIP4Rec/artifacts/vocab.pickle', 'wb') as f:\n",
    "#   pickle.dump(vocab, f)\n",
    "\n",
    "# with open('CLIP4Rec/artifacts/film_descriptions_encoded.pickle', 'wb') as f:\n",
    "#   pickle.dump(film_descriptions_encoded, f)\n",
    "\n",
    "# with open('CLIP4Rec/artifacts/movies_metadata.pickle', 'wb') as f:\n",
    "#   pickle.dump(movies_metadata, f)"
   ]
  },
  {
   "cell_type": "code",
   "execution_count": null,
   "metadata": {},
   "outputs": [],
   "source": []
  },
  {
   "cell_type": "code",
   "execution_count": null,
   "metadata": {},
   "outputs": [],
   "source": []
  },
  {
   "cell_type": "code",
   "execution_count": null,
   "metadata": {},
   "outputs": [],
   "source": []
  },
  {
   "cell_type": "code",
   "execution_count": 5,
   "metadata": {},
   "outputs": [],
   "source": [
    "list_movies = [\"Only Lovers Left Alive\",\n",
    "               \"The Twilight Saga: Eclipse\",\n",
    "               \"Me Before You\",\n",
    "               \"(500) Days of Summer\"]"
   ]
  },
  {
   "cell_type": "code",
   "execution_count": null,
   "metadata": {},
   "outputs": [],
   "source": []
  }
 ],
 "metadata": {
  "kernelspec": {
   "display_name": "cloudspace",
   "language": "python",
   "name": "python3"
  },
  "language_info": {
   "codemirror_mode": {
    "name": "ipython",
    "version": 3
   },
   "file_extension": ".py",
   "mimetype": "text/x-python",
   "name": "python",
   "nbconvert_exporter": "python",
   "pygments_lexer": "ipython3",
   "version": "3.10.10"
  }
 },
 "nbformat": 4,
 "nbformat_minor": 2
}
