{
 "cells": [
  {
   "cell_type": "code",
   "execution_count": 1,
   "metadata": {
    "ExecuteTime": {
     "end_time": "2024-05-21T17:18:26.796212Z",
     "start_time": "2024-05-21T17:18:25.372427Z"
    }
   },
   "outputs": [
    {
     "name": "stdout",
     "output_type": "stream",
     "text": [
      "Using device: cuda\n"
     ]
    }
   ],
   "source": [
    "import torch\n",
    "import pickle\n",
    "import pandas as pd\n",
    "import numpy as np\n",
    "from src.train import *\n",
    "from src.processing import *\n",
    "from src.models import *\n",
    "from src.inference import *\n",
    "from sklearn.model_selection import train_test_split\n",
    "from transformers import BertTokenizer, BertModel\n",
    "from transformers import DistilBertModel, DistilBertTokenizer\n",
    "from torch.utils.data import Dataset, DataLoader\n",
    "\n",
    "torch.manual_seed(42)\n",
    "np.random.seed(42)\n",
    "\n",
    "device = torch.device(\"cuda\" if torch.cuda.is_available() else \"cpu\")\n",
    "print(\"Using device:\", device)\n",
    "\n",
    "torch.cuda.empty_cache()"
   ]
  },
  {
   "cell_type": "code",
   "execution_count": 3,
   "metadata": {
    "ExecuteTime": {
     "end_time": "2024-05-21T17:18:43.644736Z",
     "start_time": "2024-05-21T17:18:27.694082Z"
    }
   },
   "outputs": [
    {
     "name": "stderr",
     "output_type": "stream",
     "text": [
      "/teamspace/studios/this_studio/CLIP4Rec/src/processing.py:20: DtypeWarning: Columns (10) have mixed types. Specify dtype option on import or set low_memory=False.\n",
      "  movies_metadata = pd.read_csv(movies_metadata_path)\n",
      "100%|██████████| 865083/865083 [00:02<00:00, 294762.88it/s]\n",
      "100%|██████████| 7315/7315 [00:07<00:00, 939.63it/s]\n",
      "100%|██████████| 216271/216271 [00:00<00:00, 423374.40it/s]\n"
     ]
    }
   ],
   "source": [
    "vocab = Vocabulary()\n",
    "tokenizer = BertTokenizer.from_pretrained('sentence-transformers/all-MiniLM-L6-v2')\n",
    "model = BertModel.from_pretrained('sentence-transformers/all-MiniLM-L6-v2')\n",
    "\n",
    "ratings_df, movie_descriptions, movies_metadata = create_ratings_df(\n",
    "    number_of_movies=7500,\n",
    "    links_path='CLIP4Rec/archive/links.csv',\n",
    "    movies_metadata_path='CLIP4Rec/archive/movies_metadata.csv',\n",
    "    ratings_path='CLIP4Rec/archive/ratings.csv'\n",
    "    )\n",
    "sequences = get_sequences(ratings_df)\n",
    "vocab.build_vocab(sequences)\n",
    "\n",
    "train_sentences, val_sentences = train_test_split(sequences, test_size=0.2, random_state=42)\n",
    "train_data, film_descriptions_encoded = prepare_dataset(\n",
    "    train_sentences, movie_descriptions, tokenizer, vocab, encode_descriptions=True\n",
    ")\n",
    "val_data = prepare_dataset(\n",
    "    val_sentences, movie_descriptions, tokenizer, vocab\n",
    ")\n",
    "\n",
    "train_dataset = FilmRecommendationDataset(train_data, film_descriptions_encoded)\n",
    "val_dataset = FilmRecommendationDataset(val_data, film_descriptions_encoded)\n",
    "\n",
    "epochs = 7\n",
    "batch_size = 32\n",
    "lr = 0.0001\n",
    "\n",
    "train_loader = DataLoader(train_dataset, batch_size=batch_size, shuffle=True)\n",
    "val_loader = DataLoader(val_dataset, batch_size=batch_size, shuffle=False)"
   ]
  },
  {
   "cell_type": "code",
   "execution_count": 8,
   "metadata": {
    "ExecuteTime": {
     "end_time": "2024-05-21T17:19:43.661065Z",
     "start_time": "2024-05-21T17:19:43.585978Z"
    }
   },
   "outputs": [],
   "source": [
    "film_encoder = SASFilmEncoder(item_num=len(vocab.word_to_index), seq_len=seq_len, embed_dim=384, device=device)\n",
    "text_encoder = TextEncoder(model, output_dim=384, add_fc_layer=False)"
   ]
  },
  {
   "cell_type": "code",
   "execution_count": 7,
   "metadata": {},
   "outputs": [
    {
     "name": "stderr",
     "output_type": "stream",
     "text": [
      "  7%|▋         | 1000/13517 [05:29<1:08:50,  3.03it/s]"
     ]
    },
    {
     "name": "stdout",
     "output_type": "stream",
     "text": [
      "Epoch 1, Batch 1000\n",
      "Accuracy: 0.0077\n",
      "Agreggated loss: 2.9500\n",
      "Classification loss: 7.3598\n",
      "Contrastive loss: 1.2889\n"
     ]
    },
    {
     "name": "stderr",
     "output_type": "stream",
     "text": [
      " 15%|█▍        | 2000/13517 [10:59<1:02:44,  3.06it/s]"
     ]
    },
    {
     "name": "stdout",
     "output_type": "stream",
     "text": [
      "Epoch 1, Batch 2000\n",
      "Accuracy: 0.0161\n",
      "Agreggated loss: 2.9035\n",
      "Classification loss: 7.1817\n",
      "Contrastive loss: 1.2326\n"
     ]
    },
    {
     "name": "stderr",
     "output_type": "stream",
     "text": [
      " 22%|██▏       | 3000/13517 [16:28<57:43,  3.04it/s]  "
     ]
    },
    {
     "name": "stdout",
     "output_type": "stream",
     "text": [
      "Epoch 1, Batch 3000\n",
      "Accuracy: 0.0199\n",
      "Agreggated loss: 2.8762\n",
      "Classification loss: 7.0619\n",
      "Contrastive loss: 1.2048\n"
     ]
    },
    {
     "name": "stderr",
     "output_type": "stream",
     "text": [
      " 30%|██▉       | 4000/13517 [21:57<51:58,  3.05it/s]"
     ]
    },
    {
     "name": "stdout",
     "output_type": "stream",
     "text": [
      "Epoch 1, Batch 4000\n",
      "Accuracy: 0.0230\n",
      "Agreggated loss: 2.8570\n",
      "Classification loss: 6.9722\n",
      "Contrastive loss: 1.1873\n"
     ]
    },
    {
     "name": "stderr",
     "output_type": "stream",
     "text": [
      " 37%|███▋      | 5000/13517 [27:26<46:51,  3.03it/s]"
     ]
    },
    {
     "name": "stdout",
     "output_type": "stream",
     "text": [
      "Epoch 1, Batch 5000\n",
      "Accuracy: 0.0242\n",
      "Agreggated loss: 2.8423\n",
      "Classification loss: 6.9006\n",
      "Contrastive loss: 1.1750\n"
     ]
    },
    {
     "name": "stderr",
     "output_type": "stream",
     "text": [
      " 44%|████▍     | 6000/13517 [32:57<41:26,  3.02it/s]  "
     ]
    },
    {
     "name": "stdout",
     "output_type": "stream",
     "text": [
      "Epoch 1, Batch 6000\n",
      "Accuracy: 0.0249\n",
      "Agreggated loss: 2.8308\n",
      "Classification loss: 6.8434\n",
      "Contrastive loss: 1.1659\n"
     ]
    },
    {
     "name": "stderr",
     "output_type": "stream",
     "text": [
      " 52%|█████▏    | 7000/13517 [38:27<35:49,  3.03it/s]"
     ]
    },
    {
     "name": "stdout",
     "output_type": "stream",
     "text": [
      "Epoch 1, Batch 7000\n",
      "Accuracy: 0.0256\n",
      "Agreggated loss: 2.8214\n",
      "Classification loss: 6.7953\n",
      "Contrastive loss: 1.1586\n"
     ]
    },
    {
     "name": "stderr",
     "output_type": "stream",
     "text": [
      " 59%|█████▉    | 8000/13517 [43:59<30:14,  3.04it/s]"
     ]
    },
    {
     "name": "stdout",
     "output_type": "stream",
     "text": [
      "Epoch 1, Batch 8000\n",
      "Accuracy: 0.0275\n",
      "Agreggated loss: 2.8136\n",
      "Classification loss: 6.7548\n",
      "Contrastive loss: 1.1530\n"
     ]
    },
    {
     "name": "stderr",
     "output_type": "stream",
     "text": [
      " 67%|██████▋   | 9000/13517 [49:32<24:59,  3.01it/s]"
     ]
    },
    {
     "name": "stdout",
     "output_type": "stream",
     "text": [
      "Epoch 1, Batch 9000\n",
      "Accuracy: 0.0268\n",
      "Agreggated loss: 2.8068\n",
      "Classification loss: 6.7195\n",
      "Contrastive loss: 1.1483\n"
     ]
    },
    {
     "name": "stderr",
     "output_type": "stream",
     "text": [
      " 74%|███████▍  | 10000/13517 [55:07<19:20,  3.03it/s]"
     ]
    },
    {
     "name": "stdout",
     "output_type": "stream",
     "text": [
      "Epoch 1, Batch 10000\n",
      "Accuracy: 0.0288\n",
      "Agreggated loss: 2.8010\n",
      "Classification loss: 6.6888\n",
      "Contrastive loss: 1.1443\n"
     ]
    },
    {
     "name": "stderr",
     "output_type": "stream",
     "text": [
      " 81%|████████▏ | 11000/13517 [1:00:36<13:48,  3.04it/s]"
     ]
    },
    {
     "name": "stdout",
     "output_type": "stream",
     "text": [
      "Epoch 1, Batch 11000\n",
      "Accuracy: 0.0291\n",
      "Agreggated loss: 2.7959\n",
      "Classification loss: 6.6623\n",
      "Contrastive loss: 1.1408\n"
     ]
    },
    {
     "name": "stderr",
     "output_type": "stream",
     "text": [
      " 89%|████████▉ | 12000/13517 [1:06:06<08:17,  3.05it/s]"
     ]
    },
    {
     "name": "stdout",
     "output_type": "stream",
     "text": [
      "Epoch 1, Batch 12000\n",
      "Accuracy: 0.0307\n",
      "Agreggated loss: 2.7911\n",
      "Classification loss: 6.6360\n",
      "Contrastive loss: 1.1378\n"
     ]
    },
    {
     "name": "stderr",
     "output_type": "stream",
     "text": [
      " 96%|█████████▌| 13000/13517 [1:11:35<02:51,  3.02it/s]"
     ]
    },
    {
     "name": "stdout",
     "output_type": "stream",
     "text": [
      "Epoch 1, Batch 13000\n",
      "Accuracy: 0.0295\n",
      "Agreggated loss: 2.7869\n",
      "Classification loss: 6.6135\n",
      "Contrastive loss: 1.1352\n"
     ]
    },
    {
     "name": "stderr",
     "output_type": "stream",
     "text": [
      "100%|██████████| 13517/13517 [1:14:25<00:00,  3.03it/s]\n"
     ]
    },
    {
     "name": "stdout",
     "output_type": "stream",
     "text": [
      "Epoch 1, Batch 13517\n",
      "Accuracy: 0.0319\n",
      "Agreggated loss: 2.7849\n",
      "Classification loss: 6.6025\n",
      "Contrastive loss: 1.1339\n"
     ]
    },
    {
     "name": "stderr",
     "output_type": "stream",
     "text": [
      "100%|██████████| 3380/3380 [15:00<00:00,  3.75it/s]\n"
     ]
    },
    {
     "name": "stdout",
     "output_type": "stream",
     "text": [
      "Epoch 1: Val Loss: 2.6989, Val Accuracy: 0.0313\n",
      "Val Classification loss: 6.3123\n",
      "Val Contrastive loss: 1.0340\n"
     ]
    },
    {
     "name": "stderr",
     "output_type": "stream",
     "text": [
      "  7%|▋         | 1000/13517 [05:29<1:08:23,  3.05it/s]"
     ]
    },
    {
     "name": "stdout",
     "output_type": "stream",
     "text": [
      "Epoch 2, Batch 1000\n",
      "Accuracy: 0.0344\n",
      "Agreggated loss: 2.7205\n",
      "Classification loss: 6.2296\n",
      "Contrastive loss: 1.1019\n"
     ]
    },
    {
     "name": "stderr",
     "output_type": "stream",
     "text": [
      " 15%|█▍        | 2000/13517 [11:00<1:04:59,  2.95it/s]"
     ]
    },
    {
     "name": "stdout",
     "output_type": "stream",
     "text": [
      "Epoch 2, Batch 2000\n",
      "Accuracy: 0.0350\n",
      "Agreggated loss: 2.7192\n",
      "Classification loss: 6.2238\n",
      "Contrastive loss: 1.1010\n"
     ]
    },
    {
     "name": "stderr",
     "output_type": "stream",
     "text": [
      " 22%|██▏       | 3000/13517 [16:31<59:40,  2.94it/s]  "
     ]
    },
    {
     "name": "stdout",
     "output_type": "stream",
     "text": [
      "Epoch 2, Batch 3000\n",
      "Accuracy: 0.0342\n",
      "Agreggated loss: 2.7189\n",
      "Classification loss: 6.2240\n",
      "Contrastive loss: 1.1004\n"
     ]
    },
    {
     "name": "stderr",
     "output_type": "stream",
     "text": [
      " 30%|██▉       | 4000/13517 [22:07<52:21,  3.03it/s]  "
     ]
    },
    {
     "name": "stdout",
     "output_type": "stream",
     "text": [
      "Epoch 2, Batch 4000\n",
      "Accuracy: 0.0353\n",
      "Agreggated loss: 2.7179\n",
      "Classification loss: 6.2196\n",
      "Contrastive loss: 1.0994\n"
     ]
    },
    {
     "name": "stderr",
     "output_type": "stream",
     "text": [
      " 37%|███▋      | 5000/13517 [27:37<46:53,  3.03it/s]"
     ]
    },
    {
     "name": "stdout",
     "output_type": "stream",
     "text": [
      "Epoch 2, Batch 5000\n",
      "Accuracy: 0.0355\n",
      "Agreggated loss: 2.7171\n",
      "Classification loss: 6.2163\n",
      "Contrastive loss: 1.0988\n"
     ]
    },
    {
     "name": "stderr",
     "output_type": "stream",
     "text": [
      " 44%|████▍     | 6000/13517 [33:07<41:04,  3.05it/s]"
     ]
    },
    {
     "name": "stdout",
     "output_type": "stream",
     "text": [
      "Epoch 2, Batch 6000\n",
      "Accuracy: 0.0353\n",
      "Agreggated loss: 2.7164\n",
      "Classification loss: 6.2137\n",
      "Contrastive loss: 1.0980\n"
     ]
    },
    {
     "name": "stderr",
     "output_type": "stream",
     "text": [
      " 52%|█████▏    | 7000/13517 [38:36<35:47,  3.03it/s]"
     ]
    },
    {
     "name": "stdout",
     "output_type": "stream",
     "text": [
      "Epoch 2, Batch 7000\n",
      "Accuracy: 0.0369\n",
      "Agreggated loss: 2.7155\n",
      "Classification loss: 6.2094\n",
      "Contrastive loss: 1.0974\n"
     ]
    },
    {
     "name": "stderr",
     "output_type": "stream",
     "text": [
      " 59%|█████▉    | 8000/13517 [44:05<30:23,  3.03it/s]"
     ]
    },
    {
     "name": "stdout",
     "output_type": "stream",
     "text": [
      "Epoch 2, Batch 8000\n",
      "Accuracy: 0.0383\n",
      "Agreggated loss: 2.7147\n",
      "Classification loss: 6.2052\n",
      "Contrastive loss: 1.0969\n"
     ]
    },
    {
     "name": "stderr",
     "output_type": "stream",
     "text": [
      " 67%|██████▋   | 9000/13517 [49:39<25:54,  2.91it/s]"
     ]
    },
    {
     "name": "stdout",
     "output_type": "stream",
     "text": [
      "Epoch 2, Batch 9000\n",
      "Accuracy: 0.0373\n",
      "Agreggated loss: 2.7138\n",
      "Classification loss: 6.2012\n",
      "Contrastive loss: 1.0963\n"
     ]
    },
    {
     "name": "stderr",
     "output_type": "stream",
     "text": [
      " 74%|███████▍  | 10000/13517 [55:17<19:24,  3.02it/s]"
     ]
    },
    {
     "name": "stdout",
     "output_type": "stream",
     "text": [
      "Epoch 2, Batch 10000\n",
      "Accuracy: 0.0383\n",
      "Agreggated loss: 2.7132\n",
      "Classification loss: 6.1978\n",
      "Contrastive loss: 1.0959\n"
     ]
    },
    {
     "name": "stderr",
     "output_type": "stream",
     "text": [
      " 81%|████████▏ | 11000/13517 [1:00:56<14:26,  2.90it/s]"
     ]
    },
    {
     "name": "stdout",
     "output_type": "stream",
     "text": [
      "Epoch 2, Batch 11000\n",
      "Accuracy: 0.0377\n",
      "Agreggated loss: 2.7124\n",
      "Classification loss: 6.1939\n",
      "Contrastive loss: 1.0955\n"
     ]
    },
    {
     "name": "stderr",
     "output_type": "stream",
     "text": [
      " 89%|████████▉ | 12000/13517 [1:06:32<08:38,  2.92it/s]"
     ]
    },
    {
     "name": "stdout",
     "output_type": "stream",
     "text": [
      "Epoch 2, Batch 12000\n",
      "Accuracy: 0.0393\n",
      "Agreggated loss: 2.7115\n",
      "Classification loss: 6.1895\n",
      "Contrastive loss: 1.0949\n"
     ]
    },
    {
     "name": "stderr",
     "output_type": "stream",
     "text": [
      " 96%|█████████▌| 13000/13517 [1:12:11<02:52,  3.00it/s]"
     ]
    },
    {
     "name": "stdout",
     "output_type": "stream",
     "text": [
      "Epoch 2, Batch 13000\n",
      "Accuracy: 0.0374\n",
      "Agreggated loss: 2.7107\n",
      "Classification loss: 6.1855\n",
      "Contrastive loss: 1.0945\n"
     ]
    },
    {
     "name": "stderr",
     "output_type": "stream",
     "text": [
      "100%|██████████| 13517/13517 [1:15:02<00:00,  3.00it/s]\n"
     ]
    },
    {
     "name": "stdout",
     "output_type": "stream",
     "text": [
      "Epoch 2, Batch 13517\n",
      "Accuracy: 0.0376\n",
      "Agreggated loss: 2.7104\n",
      "Classification loss: 6.1838\n",
      "Contrastive loss: 1.0942\n"
     ]
    },
    {
     "name": "stderr",
     "output_type": "stream",
     "text": [
      "100%|██████████| 3380/3380 [15:00<00:00,  3.76it/s]\n"
     ]
    },
    {
     "name": "stdout",
     "output_type": "stream",
     "text": [
      "Epoch 2: Val Loss: 2.6702, Val Accuracy: 0.0380\n",
      "Val Classification loss: 6.1515\n",
      "Val Contrastive loss: 1.0208\n"
     ]
    },
    {
     "name": "stderr",
     "output_type": "stream",
     "text": [
      "  7%|▋         | 1000/13517 [05:30<1:08:28,  3.05it/s]"
     ]
    },
    {
     "name": "stdout",
     "output_type": "stream",
     "text": [
      "Epoch 3, Batch 1000\n",
      "Accuracy: 0.0434\n",
      "Agreggated loss: 2.6789\n",
      "Classification loss: 5.9857\n",
      "Contrastive loss: 1.0869\n"
     ]
    },
    {
     "name": "stderr",
     "output_type": "stream",
     "text": [
      " 15%|█▍        | 2000/13517 [10:58<1:02:49,  3.06it/s]"
     ]
    },
    {
     "name": "stdout",
     "output_type": "stream",
     "text": [
      "Epoch 3, Batch 2000\n",
      "Accuracy: 0.0442\n",
      "Agreggated loss: 2.6788\n",
      "Classification loss: 5.9881\n",
      "Contrastive loss: 1.0860\n"
     ]
    },
    {
     "name": "stderr",
     "output_type": "stream",
     "text": [
      " 22%|██▏       | 3000/13517 [16:29<58:01,  3.02it/s]  "
     ]
    },
    {
     "name": "stdout",
     "output_type": "stream",
     "text": [
      "Epoch 3, Batch 3000\n",
      "Accuracy: 0.0427\n",
      "Agreggated loss: 2.6796\n",
      "Classification loss: 5.9938\n",
      "Contrastive loss: 1.0860\n"
     ]
    },
    {
     "name": "stderr",
     "output_type": "stream",
     "text": [
      " 30%|██▉       | 4000/13517 [21:59<52:13,  3.04it/s]"
     ]
    },
    {
     "name": "stdout",
     "output_type": "stream",
     "text": [
      "Epoch 3, Batch 4000\n",
      "Accuracy: 0.0442\n",
      "Agreggated loss: 2.6798\n",
      "Classification loss: 5.9963\n",
      "Contrastive loss: 1.0856\n"
     ]
    },
    {
     "name": "stderr",
     "output_type": "stream",
     "text": [
      " 37%|███▋      | 5000/13517 [27:29<46:31,  3.05it/s]"
     ]
    },
    {
     "name": "stdout",
     "output_type": "stream",
     "text": [
      "Epoch 3, Batch 5000\n",
      "Accuracy: 0.0439\n",
      "Agreggated loss: 2.6799\n",
      "Classification loss: 5.9990\n",
      "Contrastive loss: 1.0850\n"
     ]
    },
    {
     "name": "stderr",
     "output_type": "stream",
     "text": [
      " 44%|████▍     | 6000/13517 [33:07<42:46,  2.93it/s]"
     ]
    },
    {
     "name": "stdout",
     "output_type": "stream",
     "text": [
      "Epoch 3, Batch 6000\n",
      "Accuracy: 0.0459\n",
      "Agreggated loss: 2.6799\n",
      "Classification loss: 6.0002\n",
      "Contrastive loss: 1.0848\n"
     ]
    },
    {
     "name": "stderr",
     "output_type": "stream",
     "text": [
      " 52%|█████▏    | 7000/13517 [38:47<37:11,  2.92it/s]"
     ]
    },
    {
     "name": "stdout",
     "output_type": "stream",
     "text": [
      "Epoch 3, Batch 7000\n",
      "Accuracy: 0.0452\n",
      "Agreggated loss: 2.6797\n",
      "Classification loss: 5.9996\n",
      "Contrastive loss: 1.0844\n"
     ]
    },
    {
     "name": "stderr",
     "output_type": "stream",
     "text": [
      " 59%|█████▉    | 8000/13517 [44:21<30:12,  3.04it/s]"
     ]
    },
    {
     "name": "stdout",
     "output_type": "stream",
     "text": [
      "Epoch 3, Batch 8000\n",
      "Accuracy: 0.0444\n",
      "Agreggated loss: 2.6796\n",
      "Classification loss: 6.0004\n",
      "Contrastive loss: 1.0839\n"
     ]
    },
    {
     "name": "stderr",
     "output_type": "stream",
     "text": [
      " 67%|██████▋   | 9000/13517 [49:56<25:47,  2.92it/s]"
     ]
    },
    {
     "name": "stdout",
     "output_type": "stream",
     "text": [
      "Epoch 3, Batch 9000\n",
      "Accuracy: 0.0455\n",
      "Agreggated loss: 2.6793\n",
      "Classification loss: 6.0001\n",
      "Contrastive loss: 1.0835\n"
     ]
    },
    {
     "name": "stderr",
     "output_type": "stream",
     "text": [
      " 74%|███████▍  | 10000/13517 [55:35<20:03,  2.92it/s]"
     ]
    },
    {
     "name": "stdout",
     "output_type": "stream",
     "text": [
      "Epoch 3, Batch 10000\n",
      "Accuracy: 0.0435\n",
      "Agreggated loss: 2.6794\n",
      "Classification loss: 6.0016\n",
      "Contrastive loss: 1.0832\n"
     ]
    },
    {
     "name": "stderr",
     "output_type": "stream",
     "text": [
      " 81%|████████▏ | 11000/13517 [1:01:14<14:13,  2.95it/s]"
     ]
    },
    {
     "name": "stdout",
     "output_type": "stream",
     "text": [
      "Epoch 3, Batch 11000\n",
      "Accuracy: 0.0453\n",
      "Agreggated loss: 2.6793\n",
      "Classification loss: 6.0020\n",
      "Contrastive loss: 1.0828\n"
     ]
    },
    {
     "name": "stderr",
     "output_type": "stream",
     "text": [
      " 89%|████████▉ | 12000/13517 [1:06:54<08:40,  2.91it/s]"
     ]
    },
    {
     "name": "stdout",
     "output_type": "stream",
     "text": [
      "Epoch 3, Batch 12000\n",
      "Accuracy: 0.0440\n",
      "Agreggated loss: 2.6791\n",
      "Classification loss: 6.0021\n",
      "Contrastive loss: 1.0825\n"
     ]
    },
    {
     "name": "stderr",
     "output_type": "stream",
     "text": [
      " 96%|█████████▌| 13000/13517 [1:12:32<02:49,  3.06it/s]"
     ]
    },
    {
     "name": "stdout",
     "output_type": "stream",
     "text": [
      "Epoch 3, Batch 13000\n",
      "Accuracy: 0.0442\n",
      "Agreggated loss: 2.6790\n",
      "Classification loss: 6.0022\n",
      "Contrastive loss: 1.0822\n"
     ]
    },
    {
     "name": "stderr",
     "output_type": "stream",
     "text": [
      "100%|██████████| 13517/13517 [1:15:22<00:00,  2.99it/s]\n"
     ]
    },
    {
     "name": "stdout",
     "output_type": "stream",
     "text": [
      "Epoch 3, Batch 13517\n",
      "Accuracy: 0.0443\n",
      "Agreggated loss: 2.6788\n",
      "Classification loss: 6.0019\n",
      "Contrastive loss: 1.0820\n"
     ]
    },
    {
     "name": "stderr",
     "output_type": "stream",
     "text": [
      "100%|██████████| 3380/3380 [14:57<00:00,  3.76it/s]\n"
     ]
    },
    {
     "name": "stdout",
     "output_type": "stream",
     "text": [
      "Epoch 3: Val Loss: 2.6577, Val Accuracy: 0.0424\n",
      "Val Classification loss: 6.0962\n",
      "Val Contrastive loss: 1.0116\n"
     ]
    },
    {
     "name": "stderr",
     "output_type": "stream",
     "text": [
      "  7%|▋         | 1000/13517 [05:29<1:08:31,  3.04it/s]"
     ]
    },
    {
     "name": "stdout",
     "output_type": "stream",
     "text": [
      "Epoch 4, Batch 1000\n",
      "Accuracy: 0.0514\n",
      "Agreggated loss: 2.6477\n",
      "Classification loss: 5.8080\n",
      "Contrastive loss: 1.0756\n"
     ]
    },
    {
     "name": "stderr",
     "output_type": "stream",
     "text": [
      " 15%|█▍        | 2000/13517 [10:57<1:03:02,  3.04it/s]"
     ]
    },
    {
     "name": "stdout",
     "output_type": "stream",
     "text": [
      "Epoch 4, Batch 2000\n",
      "Accuracy: 0.0518\n",
      "Agreggated loss: 2.6473\n",
      "Classification loss: 5.8072\n",
      "Contrastive loss: 1.0750\n"
     ]
    },
    {
     "name": "stderr",
     "output_type": "stream",
     "text": [
      " 22%|██▏       | 3000/13517 [16:25<57:39,  3.04it/s]  "
     ]
    },
    {
     "name": "stdout",
     "output_type": "stream",
     "text": [
      "Epoch 4, Batch 3000\n",
      "Accuracy: 0.0514\n",
      "Agreggated loss: 2.6483\n",
      "Classification loss: 5.8135\n",
      "Contrastive loss: 1.0752\n"
     ]
    },
    {
     "name": "stderr",
     "output_type": "stream",
     "text": [
      " 30%|██▉       | 4000/13517 [21:53<51:58,  3.05it/s]"
     ]
    },
    {
     "name": "stdout",
     "output_type": "stream",
     "text": [
      "Epoch 4, Batch 4000\n",
      "Accuracy: 0.0508\n",
      "Agreggated loss: 2.6490\n",
      "Classification loss: 5.8192\n",
      "Contrastive loss: 1.0750\n"
     ]
    },
    {
     "name": "stderr",
     "output_type": "stream",
     "text": [
      " 37%|███▋      | 5000/13517 [27:22<46:53,  3.03it/s]"
     ]
    },
    {
     "name": "stdout",
     "output_type": "stream",
     "text": [
      "Epoch 4, Batch 5000\n",
      "Accuracy: 0.0511\n",
      "Agreggated loss: 2.6493\n",
      "Classification loss: 5.8222\n",
      "Contrastive loss: 1.0747\n"
     ]
    },
    {
     "name": "stderr",
     "output_type": "stream",
     "text": [
      " 44%|████▍     | 6000/13517 [32:50<40:58,  3.06it/s]"
     ]
    },
    {
     "name": "stdout",
     "output_type": "stream",
     "text": [
      "Epoch 4, Batch 6000\n",
      "Accuracy: 0.0505\n",
      "Agreggated loss: 2.6497\n",
      "Classification loss: 5.8261\n",
      "Contrastive loss: 1.0744\n"
     ]
    },
    {
     "name": "stderr",
     "output_type": "stream",
     "text": [
      " 52%|█████▏    | 7000/13517 [38:19<35:32,  3.06it/s]  "
     ]
    },
    {
     "name": "stdout",
     "output_type": "stream",
     "text": [
      "Epoch 4, Batch 7000\n",
      "Accuracy: 0.0503\n",
      "Agreggated loss: 2.6505\n",
      "Classification loss: 5.8311\n",
      "Contrastive loss: 1.0744\n"
     ]
    },
    {
     "name": "stderr",
     "output_type": "stream",
     "text": [
      " 59%|█████▉    | 8000/13517 [43:54<30:22,  3.03it/s]"
     ]
    },
    {
     "name": "stdout",
     "output_type": "stream",
     "text": [
      "Epoch 4, Batch 8000\n",
      "Accuracy: 0.0497\n",
      "Agreggated loss: 2.6506\n",
      "Classification loss: 5.8329\n",
      "Contrastive loss: 1.0740\n"
     ]
    },
    {
     "name": "stderr",
     "output_type": "stream",
     "text": [
      " 67%|██████▋   | 9000/13517 [49:23<24:48,  3.03it/s]"
     ]
    },
    {
     "name": "stdout",
     "output_type": "stream",
     "text": [
      "Epoch 4, Batch 9000\n",
      "Accuracy: 0.0515\n",
      "Agreggated loss: 2.6509\n",
      "Classification loss: 5.8358\n",
      "Contrastive loss: 1.0738\n"
     ]
    },
    {
     "name": "stderr",
     "output_type": "stream",
     "text": [
      " 74%|███████▍  | 10000/13517 [54:52<19:30,  3.01it/s]"
     ]
    },
    {
     "name": "stdout",
     "output_type": "stream",
     "text": [
      "Epoch 4, Batch 10000\n",
      "Accuracy: 0.0496\n",
      "Agreggated loss: 2.6511\n",
      "Classification loss: 5.8380\n",
      "Contrastive loss: 1.0736\n"
     ]
    },
    {
     "name": "stderr",
     "output_type": "stream",
     "text": [
      " 81%|████████▏ | 11000/13517 [1:00:21<13:47,  3.04it/s]"
     ]
    },
    {
     "name": "stdout",
     "output_type": "stream",
     "text": [
      "Epoch 4, Batch 11000\n",
      "Accuracy: 0.0502\n",
      "Agreggated loss: 2.6513\n",
      "Classification loss: 5.8404\n",
      "Contrastive loss: 1.0732\n"
     ]
    },
    {
     "name": "stderr",
     "output_type": "stream",
     "text": [
      " 89%|████████▉ | 12000/13517 [1:05:50<08:16,  3.06it/s]"
     ]
    },
    {
     "name": "stdout",
     "output_type": "stream",
     "text": [
      "Epoch 4, Batch 12000\n",
      "Accuracy: 0.0494\n",
      "Agreggated loss: 2.6517\n",
      "Classification loss: 5.8442\n",
      "Contrastive loss: 1.0729\n"
     ]
    },
    {
     "name": "stderr",
     "output_type": "stream",
     "text": [
      " 96%|█████████▌| 13000/13517 [1:11:24<02:49,  3.05it/s]"
     ]
    },
    {
     "name": "stdout",
     "output_type": "stream",
     "text": [
      "Epoch 4, Batch 13000\n",
      "Accuracy: 0.0499\n",
      "Agreggated loss: 2.6518\n",
      "Classification loss: 5.8460\n",
      "Contrastive loss: 1.0727\n"
     ]
    },
    {
     "name": "stderr",
     "output_type": "stream",
     "text": [
      "100%|██████████| 13517/13517 [1:14:14<00:00,  3.03it/s]\n"
     ]
    },
    {
     "name": "stdout",
     "output_type": "stream",
     "text": [
      "Epoch 4, Batch 13517\n",
      "Accuracy: 0.0495\n",
      "Agreggated loss: 2.6518\n",
      "Classification loss: 5.8468\n",
      "Contrastive loss: 1.0725\n"
     ]
    },
    {
     "name": "stderr",
     "output_type": "stream",
     "text": [
      "100%|██████████| 3380/3380 [14:58<00:00,  3.76it/s]\n"
     ]
    },
    {
     "name": "stdout",
     "output_type": "stream",
     "text": [
      "Epoch 4: Val Loss: 2.6520, Val Accuracy: 0.0445\n",
      "Val Classification loss: 6.0817\n",
      "Val Contrastive loss: 1.0043\n"
     ]
    },
    {
     "name": "stderr",
     "output_type": "stream",
     "text": [
      "  7%|▋         | 1000/13517 [05:28<1:08:34,  3.04it/s]"
     ]
    },
    {
     "name": "stdout",
     "output_type": "stream",
     "text": [
      "Epoch 5, Batch 1000\n",
      "Accuracy: 0.0620\n",
      "Agreggated loss: 2.6144\n",
      "Classification loss: 5.6090\n",
      "Contrastive loss: 1.0681\n"
     ]
    },
    {
     "name": "stderr",
     "output_type": "stream",
     "text": [
      " 15%|█▍        | 2000/13517 [10:57<1:03:03,  3.04it/s]"
     ]
    },
    {
     "name": "stdout",
     "output_type": "stream",
     "text": [
      "Epoch 5, Batch 2000\n",
      "Accuracy: 0.0611\n",
      "Agreggated loss: 2.6172\n",
      "Classification loss: 5.6280\n",
      "Contrastive loss: 1.0681\n"
     ]
    },
    {
     "name": "stderr",
     "output_type": "stream",
     "text": [
      " 22%|██▏       | 3000/13517 [16:27<57:23,  3.05it/s]  "
     ]
    },
    {
     "name": "stdout",
     "output_type": "stream",
     "text": [
      "Epoch 5, Batch 3000\n",
      "Accuracy: 0.0603\n",
      "Agreggated loss: 2.6185\n",
      "Classification loss: 5.6383\n",
      "Contrastive loss: 1.0674\n"
     ]
    },
    {
     "name": "stderr",
     "output_type": "stream",
     "text": [
      " 30%|██▉       | 4000/13517 [21:56<52:04,  3.05it/s]  "
     ]
    },
    {
     "name": "stdout",
     "output_type": "stream",
     "text": [
      "Epoch 5, Batch 4000\n",
      "Accuracy: 0.0576\n",
      "Agreggated loss: 2.6200\n",
      "Classification loss: 5.6486\n",
      "Contrastive loss: 1.0673\n"
     ]
    },
    {
     "name": "stderr",
     "output_type": "stream",
     "text": [
      " 37%|███▋      | 5000/13517 [27:25<46:33,  3.05it/s]"
     ]
    },
    {
     "name": "stdout",
     "output_type": "stream",
     "text": [
      "Epoch 5, Batch 5000\n",
      "Accuracy: 0.0591\n",
      "Agreggated loss: 2.6206\n",
      "Classification loss: 5.6543\n",
      "Contrastive loss: 1.0669\n"
     ]
    },
    {
     "name": "stderr",
     "output_type": "stream",
     "text": [
      " 44%|████▍     | 6000/13517 [32:53<41:04,  3.05it/s]"
     ]
    },
    {
     "name": "stdout",
     "output_type": "stream",
     "text": [
      "Epoch 5, Batch 6000\n",
      "Accuracy: 0.0585\n",
      "Agreggated loss: 2.6214\n",
      "Classification loss: 5.6599\n",
      "Contrastive loss: 1.0668\n"
     ]
    },
    {
     "name": "stderr",
     "output_type": "stream",
     "text": [
      " 52%|█████▏    | 7000/13517 [38:21<35:39,  3.05it/s]"
     ]
    },
    {
     "name": "stdout",
     "output_type": "stream",
     "text": [
      "Epoch 5, Batch 7000\n",
      "Accuracy: 0.0585\n",
      "Agreggated loss: 2.6218\n",
      "Classification loss: 5.6636\n",
      "Contrastive loss: 1.0665\n"
     ]
    },
    {
     "name": "stderr",
     "output_type": "stream",
     "text": [
      " 59%|█████▉    | 8000/13517 [43:50<30:17,  3.04it/s]"
     ]
    },
    {
     "name": "stdout",
     "output_type": "stream",
     "text": [
      "Epoch 5, Batch 8000\n",
      "Accuracy: 0.0555\n",
      "Agreggated loss: 2.6228\n",
      "Classification loss: 5.6707\n",
      "Contrastive loss: 1.0663\n"
     ]
    },
    {
     "name": "stderr",
     "output_type": "stream",
     "text": [
      " 67%|██████▋   | 9000/13517 [49:18<24:39,  3.05it/s]"
     ]
    },
    {
     "name": "stdout",
     "output_type": "stream",
     "text": [
      "Epoch 5, Batch 9000\n",
      "Accuracy: 0.0568\n",
      "Agreggated loss: 2.6233\n",
      "Classification loss: 5.6747\n",
      "Contrastive loss: 1.0661\n"
     ]
    },
    {
     "name": "stderr",
     "output_type": "stream",
     "text": [
      " 74%|███████▍  | 10000/13517 [54:52<19:33,  3.00it/s]"
     ]
    },
    {
     "name": "stdout",
     "output_type": "stream",
     "text": [
      "Epoch 5, Batch 10000\n",
      "Accuracy: 0.0577\n",
      "Agreggated loss: 2.6239\n",
      "Classification loss: 5.6795\n",
      "Contrastive loss: 1.0658\n"
     ]
    },
    {
     "name": "stderr",
     "output_type": "stream",
     "text": [
      " 81%|████████▏ | 11000/13517 [1:00:25<13:52,  3.02it/s]"
     ]
    },
    {
     "name": "stdout",
     "output_type": "stream",
     "text": [
      "Epoch 5, Batch 11000\n",
      "Accuracy: 0.0561\n",
      "Agreggated loss: 2.6244\n",
      "Classification loss: 5.6838\n",
      "Contrastive loss: 1.0656\n"
     ]
    },
    {
     "name": "stderr",
     "output_type": "stream",
     "text": [
      " 89%|████████▉ | 12000/13517 [1:05:54<08:18,  3.04it/s]"
     ]
    },
    {
     "name": "stdout",
     "output_type": "stream",
     "text": [
      "Epoch 5, Batch 12000\n",
      "Accuracy: 0.0555\n",
      "Agreggated loss: 2.6248\n",
      "Classification loss: 5.6876\n",
      "Contrastive loss: 1.0653\n"
     ]
    },
    {
     "name": "stderr",
     "output_type": "stream",
     "text": [
      " 96%|█████████▌| 13000/13517 [1:11:23<02:50,  3.04it/s]"
     ]
    },
    {
     "name": "stdout",
     "output_type": "stream",
     "text": [
      "Epoch 5, Batch 13000\n",
      "Accuracy: 0.0562\n",
      "Agreggated loss: 2.6254\n",
      "Classification loss: 5.6919\n",
      "Contrastive loss: 1.0651\n"
     ]
    },
    {
     "name": "stderr",
     "output_type": "stream",
     "text": [
      "100%|██████████| 13517/13517 [1:14:13<00:00,  3.04it/s]\n"
     ]
    },
    {
     "name": "stdout",
     "output_type": "stream",
     "text": [
      "Epoch 5, Batch 13517\n",
      "Accuracy: 0.0556\n",
      "Agreggated loss: 2.6255\n",
      "Classification loss: 5.6933\n",
      "Contrastive loss: 1.0649\n"
     ]
    },
    {
     "name": "stderr",
     "output_type": "stream",
     "text": [
      "100%|██████████| 3380/3380 [14:58<00:00,  3.76it/s]\n"
     ]
    },
    {
     "name": "stdout",
     "output_type": "stream",
     "text": [
      "Epoch 5: Val Loss: 2.6517, Val Accuracy: 0.0452\n",
      "Val Classification loss: 6.1001\n",
      "Val Contrastive loss: 0.9987\n"
     ]
    }
   ],
   "source": [
    "train_clip(film_encoder, text_encoder, train_loader, val_loader, \n",
    "           epochs=epochs, lr=lr, device=device, iter_verbose=1000, folder='CLIP4Rec/artifacts')"
   ]
  },
  {
   "cell_type": "code",
   "execution_count": 8,
   "metadata": {},
   "outputs": [],
   "source": [
    "# torch.save(film_encoder.state_dict(), 'artifacts/film_encoder_weights_final.pth')\n",
    "# torch.save(text_encoder.state_dict(), 'artifacts/text_encoder_weights_final.pth')\n",
    "\n",
    "torch.save(train_dataset, 'CLIP4Rec/artifacts/train_dataset.pt')\n",
    "torch.save(val_dataset, 'CLIP4Rec/artifacts/val_dataset.pt')\n",
    "\n",
    "with open('CLIP4Rec/artifacts/ratings_df.pickle', 'wb') as f:\n",
    "  pickle.dump(ratings_df, f)\n",
    "\n",
    "with open('CLIP4Rec/artifacts/movie_descriptions.pickle', 'wb') as f:\n",
    "  pickle.dump(movie_descriptions, f)\n",
    "\n",
    "with open('CLIP4Rec/artifacts/sequences.pickle', 'wb') as f:\n",
    "  pickle.dump(sequences, f)\n",
    "\n",
    "with open('CLIP4Rec/artifacts/vocab.pickle', 'wb') as f:\n",
    "  pickle.dump(vocab, f)\n",
    "\n",
    "with open('CLIP4Rec/artifacts/film_descriptions_encoded.pickle', 'wb') as f:\n",
    "  pickle.dump(film_descriptions_encoded, f)\n",
    "\n",
    "with open('CLIP4Rec/artifacts/movies_metadata.pickle', 'wb') as f:\n",
    "  pickle.dump(movies_metadata, f)"
   ]
  },
  {
   "cell_type": "code",
   "execution_count": null,
   "metadata": {},
   "outputs": [],
   "source": []
  },
  {
   "cell_type": "code",
   "execution_count": null,
   "metadata": {},
   "outputs": [],
   "source": []
  },
  {
   "cell_type": "code",
   "execution_count": null,
   "metadata": {},
   "outputs": [],
   "source": []
  },
  {
   "cell_type": "code",
   "execution_count": 2,
   "metadata": {
    "ExecuteTime": {
     "end_time": "2024-05-21T16:05:53.544682Z",
     "start_time": "2024-05-21T16:05:53.539389Z"
    }
   },
   "outputs": [],
   "source": [
    "# list_movies = [\"Only Lovers Left Alive\",\n",
    "#                \"The Twilight Saga: Eclipse\",\n",
    "#                \"Me Before You\",\n",
    "#                \"(500) Days of Summer\"]\n",
    "\n",
    "list_movies = [\"Minions\",\n",
    "               \"Zootopia\",\n",
    "               \"Shrek\",\n",
    "               \"Kung Fu Panda\"]"
   ]
  },
  {
   "cell_type": "code",
   "execution_count": 3,
   "metadata": {
    "ExecuteTime": {
     "end_time": "2024-05-21T16:05:56.673169Z",
     "start_time": "2024-05-21T16:05:53.544180Z"
    }
   },
   "outputs": [
    {
     "name": "stderr",
     "output_type": "stream",
     "text": [
      "/Users/Aleksandra.Sorokovikova/Study/Data Science/mamba rec system/CLIP4Rec/venv/lib/python3.11/site-packages/huggingface_hub/file_download.py:1132: FutureWarning: `resume_download` is deprecated and will be removed in version 1.0.0. Downloads always resume when possible. If you want to force a new download, use `force_download=True`.\n",
      "  warnings.warn(\n"
     ]
    },
    {
     "data": {
      "application/vnd.jupyter.widget-view+json": {
       "model_id": "f26073a460064c339d37bb86d3dbb3c4",
       "version_major": 2,
       "version_minor": 0
      },
      "text/plain": [
       "tokenizer_config.json:   0%|          | 0.00/48.0 [00:00<?, ?B/s]"
      ]
     },
     "metadata": {},
     "output_type": "display_data"
    }
   ],
   "source": [
    "vocab = pd.read_pickle('artifacts/vocab.pickle')\n",
    "movies_metadata = pd.read_pickle('artifacts/movies_metadata.pickle')\n",
    "film_descriptions_encoded = pd.read_pickle('artifacts/film_descriptions_encoded.pickle')\n",
    "bert_model = DistilBertModel.from_pretrained('distilbert-base-uncased')\n",
    "bert_tokenizer = DistilBertTokenizer.from_pretrained('distilbert-base-uncased')\n",
    "\n",
    "dim = 384\n",
    "num_trees=10\n",
    "search_type='euclidean'"
   ]
  },
  {
   "cell_type": "code",
   "execution_count": 4,
   "metadata": {},
   "outputs": [
    {
     "name": "stderr",
     "output_type": "stream",
     "text": [
      "100%|██████████| 229/229 [00:08<00:00, 28.22it/s]\n",
      "100%|██████████| 7314/7314 [00:01<00:00, 7024.77it/s]\n"
     ]
    }
   ],
   "source": [
    "# build and save\n",
    "\n",
    "inference = Inference(\n",
    "    film_encoder_path = 'artifacts/film_encoder_weights_final_4.pth',\n",
    "    text_encoder_path = 'artifacts/text_encoder_weights_final_4.pth',\n",
    "    vocab=vocab,\n",
    "    dim=dim,\n",
    "    movies_metadata=movies_metadata,\n",
    "    seq_len=seq_len,\n",
    "    device=device,\n",
    "    bert_model=bert_model,\n",
    "    bert_tokenizer=bert_tokenizer,\n",
    ")\n",
    "\n",
    "film_embeddings, text_embeddings = inference.get_embeddings(film_descriptions_encoded, batch_size=32)\n",
    "\n",
    "annoy_model = AnnoySearchEngine(\n",
    "    dim=dim,\n",
    "    num_trees=num_trees,\n",
    "    search_type=search_type,\n",
    ")\n",
    "annoy_model.build_trees(film_embeddings, text_embeddings)\n",
    "annoy_model.save_indexes('artifacts/text_index.ann', 'artifacts/film_index.ann', 'artifacts/idx_to_movieId.pickle')\n",
    "inference.init_annoy_model('artifacts/text_index.ann', 'artifacts/film_index.ann', 'artifacts/idx_to_movieId.pickle', num_trees=10)"
   ]
  },
  {
   "cell_type": "code",
   "execution_count": 5,
   "metadata": {},
   "outputs": [
    {
     "data": {
      "text/plain": [
       "['Kung Fu Panda',\n",
       " 'Kung Fu Panda 2',\n",
       " 'The Mermaid',\n",
       " 'Kung Fu Dunk',\n",
       " 'The Man with the Iron Fists 2',\n",
       " 'Girls Against Boys',\n",
       " 'Shanghai Knights',\n",
       " 'Clean',\n",
       " 'Rise: Blood Hunter',\n",
       " 'Saving Mr. Wu']"
      ]
     },
     "execution_count": 5,
     "metadata": {},
     "output_type": "execute_result"
    }
   ],
   "source": [
    "overview = movies_metadata.query('title==\"Kung Fu Panda\"')['overview'].values[0]\n",
    "inference.search_text(overview, in_films=True)"
   ]
  },
  {
   "cell_type": "code",
   "execution_count": 11,
   "metadata": {
    "ExecuteTime": {
     "end_time": "2024-05-21T17:21:08.065808Z",
     "start_time": "2024-05-21T17:21:08.057161Z"
    }
   },
   "outputs": [],
   "source": [
    "# load and init\n",
    "\n",
    "inference = Inference(\n",
    "    film_encoder_path = 'artifacts/film_encoder_weights_final_4.pth',\n",
    "    text_encoder_path = 'artifacts/text_encoder_weights_final_4.pth',\n",
    "    vocab=vocab,\n",
    "    dim=384,\n",
    "    movies_metadata=movies_metadata,\n",
    "    seq_len=seq_len,\n",
    "    device=device,\n",
    "    bert_model=bert_model,\n",
    "    bert_tokenizer=bert_tokenizer,\n",
    ")\n",
    "\n",
    "inference.init_annoy_model('artifacts/text_index.ann', 'artifacts/film_index.ann', 'artifacts/idx_to_movieId.pickle', num_trees=10)"
   ]
  },
  {
   "cell_type": "code",
   "execution_count": 8,
   "metadata": {},
   "outputs": [
    {
     "data": {
      "text/plain": [
       "['Megamind',\n",
       " 'Despicable Me 2',\n",
       " 'Teenage Mutant Ninja Turtles: Out of the Shadows',\n",
       " 'The Lego Movie',\n",
       " 'Teen Titans: Trouble in Tokyo',\n",
       " 'LEGO DC Comics Super Heroes: Justice League: Attack of the Legion of Doom!',\n",
       " 'Superman/Shazam!: The Return of Black Adam',\n",
       " 'The SpongeBob SquarePants Movie',\n",
       " 'In the Name of the King 2: Two Worlds',\n",
       " 'Fantastic 4: Rise of the Silver Surfer']"
      ]
     },
     "execution_count": 8,
     "metadata": {},
     "output_type": "execute_result"
    }
   ],
   "source": [
    "overview = movies_metadata.query('title==\"Megamind\"')['overview'].values[0]\n",
    "inference.search_text(overview, in_films=True)"
   ]
  },
  {
   "cell_type": "code",
   "execution_count": null,
   "metadata": {
    "collapsed": false
   },
   "outputs": [],
   "source": []
  }
 ],
 "metadata": {
  "kernelspec": {
   "display_name": "Python 3 (ipykernel)",
   "language": "python",
   "name": "python3"
  },
  "language_info": {
   "codemirror_mode": {
    "name": "ipython",
    "version": 3
   },
   "file_extension": ".py",
   "mimetype": "text/x-python",
   "name": "python",
   "nbconvert_exporter": "python",
   "pygments_lexer": "ipython3",
   "version": "3.10.10"
  }
 },
 "nbformat": 4,
 "nbformat_minor": 4
}
