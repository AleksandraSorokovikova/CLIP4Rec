{
 "cells": [
  {
   "cell_type": "code",
   "execution_count": 1,
   "metadata": {
    "ExecuteTime": {
     "end_time": "2024-05-21T17:18:26.796212Z",
     "start_time": "2024-05-21T17:18:25.372427Z"
    }
   },
   "outputs": [
    {
     "name": "stdout",
     "output_type": "stream",
     "text": [
      "Using device: cuda\n"
     ]
    }
   ],
   "source": [
    "import torch\n",
    "import pickle\n",
    "import pandas as pd\n",
    "import numpy as np\n",
    "from src.train import *\n",
    "from src.processing import *\n",
    "from src.models import *\n",
    "from src.inference import *\n",
    "from sklearn.model_selection import train_test_split\n",
    "from transformers import BertTokenizer, BertModel\n",
    "from transformers import DistilBertModel, DistilBertTokenizer\n",
    "from torch.utils.data import Dataset, DataLoader\n",
    "import os\n",
    "import tiktoken\n",
    "from openai import OpenAI\n",
    "from torch.utils.tensorboard import SummaryWriter\n",
    "\n",
    "writer = SummaryWriter('runs')\n",
    "\n",
    "os.environ[\"OPENAI_API_KEY\"] = \"sk-...\"\n",
    "\n",
    "torch.manual_seed(42)\n",
    "np.random.seed(42)\n",
    "\n",
    "device = torch.device(\"cuda\" if torch.cuda.is_available() else \"cpu\")\n",
    "print(\"Using device:\", device)\n",
    "\n",
    "torch.cuda.empty_cache()"
   ]
  },
  {
   "cell_type": "code",
   "execution_count": 5,
   "metadata": {
    "ExecuteTime": {
     "end_time": "2024-05-21T17:18:43.644736Z",
     "start_time": "2024-05-21T17:18:27.694082Z"
    }
   },
   "outputs": [
    {
     "name": "stderr",
     "output_type": "stream",
     "text": [
      "/home/CLIP4Rec/src/processing.py:20: DtypeWarning: Columns (10) have mixed types. Specify dtype option on import or set low_memory=False.\n",
      "  movies_metadata = pd.read_csv(movies_metadata_path)\n",
      "100%|██████████| 865083/865083 [00:03<00:00, 234166.15it/s]\n",
      "100%|██████████| 7315/7315 [00:08<00:00, 835.28it/s]\n",
      "100%|██████████| 216271/216271 [00:00<00:00, 307205.94it/s]\n"
     ]
    }
   ],
   "source": [
    "vocab = Vocabulary()\n",
    "tokenizer = BertTokenizer.from_pretrained('google-bert/bert-base-uncased')\n",
    "model = BertModel.from_pretrained('google-bert/bert-base-uncased').to(device)\n",
    "\n",
    "# tokenizer = DistilBertTokenizer.from_pretrained('distilbert/distilbert-base-uncased')\n",
    "# model = DistilBertModel.from_pretrained('distilbert/distilbert-base-uncased')\n",
    "\n",
    "# tokenizer = BertTokenizer.from_pretrained('sentence-transformers/all-MiniLM-L6-v2') \n",
    "# model = BertModel.from_pretrained('sentence-transformers/all-MiniLM-L6-v2')\n",
    "\n",
    "# openai_model = \"text-embedding-3-large\"\n",
    "# tokenizer = tiktoken.encoding_for_model(\"text-embedding-3-large\")\n",
    "\n",
    "ratings_df, movie_descriptions, movies_metadata = create_ratings_df(\n",
    "    number_of_movies=7500,\n",
    "    links_path='archive/links.csv',\n",
    "    movies_metadata_path='archive/movies_metadata.csv',\n",
    "    ratings_path='archive/ratings.csv'\n",
    "    )\n",
    "sequences = get_sequences(ratings_df)\n",
    "vocab.build_vocab(sequences)\n",
    "\n",
    "train_sentences, val_sentences = train_test_split(sequences, test_size=0.2, random_state=42)\n",
    "train_data, film_descriptions_encoded = prepare_dataset(\n",
    "    train_sentences, movie_descriptions, tokenizer, vocab, encode_descriptions=True, max_len=100\n",
    ")\n",
    "val_data = prepare_dataset(\n",
    "    val_sentences, movie_descriptions, tokenizer, vocab\n",
    ")\n",
    "\n",
    "train_dataset = FilmRecommendationDataset(train_data, film_descriptions_encoded)\n",
    "val_dataset = FilmRecommendationDataset(val_data, film_descriptions_encoded)\n",
    "\n",
    "epochs = 6\n",
    "batch_size = 64\n",
    "lr = 0.0001\n",
    "\n",
    "train_loader = DataLoader(train_dataset, batch_size=batch_size, shuffle=True)\n",
    "val_loader = DataLoader(val_dataset, batch_size=batch_size, shuffle=False)"
   ]
  },
  {
   "cell_type": "code",
   "execution_count": 6,
   "metadata": {},
   "outputs": [
    {
     "data": {
      "text/plain": [
       "13517"
      ]
     },
     "execution_count": 6,
     "metadata": {},
     "output_type": "execute_result"
    }
   ],
   "source": [
    "len(train_loader)"
   ]
  },
  {
   "cell_type": "code",
   "execution_count": 7,
   "metadata": {
    "ExecuteTime": {
     "end_time": "2024-05-21T17:19:43.661065Z",
     "start_time": "2024-05-21T17:19:43.585978Z"
    }
   },
   "outputs": [
    {
     "data": {
      "text/plain": [
       "<torch._C.Generator at 0x7f97880422d0>"
      ]
     },
     "execution_count": 7,
     "metadata": {},
     "output_type": "execute_result"
    }
   ],
   "source": [
    "emb_dim = 768\n",
    "\n",
    "film_encoder = SASFilmEncoder(item_num=len(vocab.word_to_index), seq_len=seq_len, embed_dim=emb_dim, device=device)\n",
    "text_encoder = TextEncoder(model, output_dim=emb_dim, add_fc_layer=True)\n",
    "torch.manual_seed(42)"
   ]
  },
  {
   "cell_type": "code",
   "execution_count": 11,
   "metadata": {},
   "outputs": [],
   "source": [
    "train_clip(film_encoder, text_encoder, train_loader, val_loader, \n",
    "           epochs=epochs, lr=lr, device=device, iter_verbose=1500, folder='artifacts', writer=writer)\n",
    "\n",
    "writer.flush()"
   ]
  },
  {
   "cell_type": "code",
   "execution_count": null,
   "metadata": {},
   "outputs": [],
   "source": [
    "writer.close()"
   ]
  },
  {
   "cell_type": "code",
   "execution_count": 13,
   "metadata": {},
   "outputs": [],
   "source": [
    "# torch.save(film_encoder.state_dict(), 'artifacts/film_encoder_weights_final.pth')\n",
    "# torch.save(text_encoder.state_dict(), 'artifacts/text_encoder_weights_final.pth')\n",
    "\n",
    "torch.save(train_dataset, 'artifacts/train_dataset.pt')\n",
    "torch.save(val_dataset, 'artifacts/val_dataset.pt')\n",
    "\n",
    "with open('artifacts/ratings_df.pickle', 'wb') as f:\n",
    "  pickle.dump(ratings_df, f)\n",
    "\n",
    "with open('artifacts/movie_descriptions.pickle', 'wb') as f:\n",
    "  pickle.dump(movie_descriptions, f)\n",
    "\n",
    "with open('artifacts/sequences.pickle', 'wb') as f:\n",
    "  pickle.dump(sequences, f)\n",
    "\n",
    "with open('artifacts/vocab.pickle', 'wb') as f:\n",
    "  pickle.dump(vocab, f)\n",
    "\n",
    "with open('artifacts/film_descriptions_encoded.pickle', 'wb') as f:\n",
    "  pickle.dump(film_descriptions_encoded, f)\n",
    "\n",
    "with open('artifacts/movies_metadata.pickle', 'wb') as f:\n",
    "  pickle.dump(movies_metadata, f)"
   ]
  },
  {
   "cell_type": "code",
   "execution_count": null,
   "metadata": {},
   "outputs": [],
   "source": []
  },
  {
   "cell_type": "code",
   "execution_count": null,
   "metadata": {},
   "outputs": [],
   "source": []
  },
  {
   "cell_type": "code",
   "execution_count": 8,
   "metadata": {
    "ExecuteTime": {
     "end_time": "2024-05-21T16:05:53.544682Z",
     "start_time": "2024-05-21T16:05:53.539389Z"
    }
   },
   "outputs": [],
   "source": [
    "# list_movies = [\"Only Lovers Left Alive\",\n",
    "#                \"The Twilight Saga: Eclipse\",\n",
    "#                \"Me Before You\",\n",
    "#                \"(500) Days of Summer\"]\n",
    "\n",
    "list_movies = [\"Minions\",\n",
    "               \"Zootopia\",\n",
    "               \"Shrek\",\n",
    "               \"Kung Fu Panda\"]"
   ]
  },
  {
   "cell_type": "code",
   "execution_count": 3,
   "metadata": {
    "ExecuteTime": {
     "end_time": "2024-05-21T16:05:56.673169Z",
     "start_time": "2024-05-21T16:05:53.544180Z"
    }
   },
   "outputs": [],
   "source": [
    "vocab = pd.read_pickle('artifacts/vocab.pickle')\n",
    "movies_metadata = pd.read_pickle('artifacts/movies_metadata.pickle')\n",
    "film_descriptions_encoded = pd.read_pickle('artifacts/film_descriptions_encoded.pickle')\n",
    "\n",
    "bert_tokenizer = BertTokenizer.from_pretrained('google-bert/bert-base-uncased')\n",
    "bert_model = BertModel.from_pretrained('google-bert/bert-base-uncased').to(device)"
   ]
  },
  {
   "cell_type": "code",
   "execution_count": 5,
   "metadata": {},
   "outputs": [],
   "source": [
    "dim = 768\n",
    "num_trees=12\n",
    "search_type='euclidean'"
   ]
  },
  {
   "cell_type": "code",
   "execution_count": 5,
   "metadata": {},
   "outputs": [
    {
     "name": "stderr",
     "output_type": "stream",
     "text": [
      "100%|██████████| 229/229 [00:12<00:00, 19.01it/s]\n",
      "100%|██████████| 7314/7314 [00:01<00:00, 4462.45it/s]\n"
     ]
    }
   ],
   "source": [
    "# build and save\n",
    "\n",
    "inference = Inference(\n",
    "    film_encoder_path = 'artifacts/film_encoder_weights_4.pth',\n",
    "    text_encoder_path = 'artifacts/text_encoder_weights_4.pth',\n",
    "    vocab=vocab,\n",
    "    dim=dim,\n",
    "    movies_metadata=movies_metadata,\n",
    "    seq_len=seq_len,\n",
    "    device=device,\n",
    "    bert_model=bert_model,\n",
    "    bert_tokenizer=bert_tokenizer,\n",
    ")\n",
    "\n",
    "film_embeddings, text_embeddings = inference.get_embeddings(film_descriptions_encoded, batch_size=32)\n",
    "\n",
    "annoy_model = AnnoySearchEngine(\n",
    "    dim=dim,\n",
    "    num_trees=num_trees,\n",
    "    search_type=search_type,\n",
    ")\n",
    "annoy_model.build_trees(film_embeddings, text_embeddings)\n",
    "annoy_model.save_indexes('artifacts/text_index.ann', 'artifacts/film_index.ann', 'artifacts/idx_to_movieId.pickle')\n",
    "inference.init_annoy_model('artifacts/text_index.ann', 'artifacts/film_index.ann', 'artifacts/idx_to_movieId.pickle', num_trees=12)"
   ]
  },
  {
   "cell_type": "code",
   "execution_count": 15,
   "metadata": {},
   "outputs": [
    {
     "data": {
      "text/plain": [
       "['The Devil Wears Prada',\n",
       " 'Slumdog Millionaire',\n",
       " 'Limitless',\n",
       " 'Scott Pilgrim vs. the World',\n",
       " 'Interstellar',\n",
       " 'Bloodsucking Bastards',\n",
       " 'The Judge',\n",
       " 'Boyhood',\n",
       " 'Harry Potter and the Goblet of Fire',\n",
       " \"Everyone's Hero\"]"
      ]
     },
     "execution_count": 15,
     "metadata": {},
     "output_type": "execute_result"
    }
   ],
   "source": [
    "overview = movies_metadata.query('title==\"The Devil Wears Prada\"')['overview'].values[0]\n",
    "inference.search_text(overview, in_films=False)"
   ]
  },
  {
   "cell_type": "code",
   "execution_count": 6,
   "metadata": {
    "ExecuteTime": {
     "end_time": "2024-05-21T17:21:08.065808Z",
     "start_time": "2024-05-21T17:21:08.057161Z"
    }
   },
   "outputs": [],
   "source": [
    "# load and init\n",
    "\n",
    "inference = Inference(\n",
    "    film_encoder_path = 'artifacts/film_encoder_weights_4.pth',\n",
    "    text_encoder_path = 'artifacts/text_encoder_weights_4.pth',\n",
    "    vocab=vocab,\n",
    "    dim=dim,\n",
    "    movies_metadata=movies_metadata,\n",
    "    seq_len=seq_len,\n",
    "    device=device,\n",
    "    bert_model=bert_model,\n",
    "    bert_tokenizer=bert_tokenizer,\n",
    ")\n",
    "\n",
    "inference.init_annoy_model('artifacts/text_index.ann', 'artifacts/film_index.ann', 'artifacts/idx_to_movieId.pickle', num_trees=12)"
   ]
  },
  {
   "cell_type": "code",
   "execution_count": 13,
   "metadata": {},
   "outputs": [
    {
     "data": {
      "text/plain": [
       "['Megamind',\n",
       " 'The Animal',\n",
       " 'Highlander: The Search for Vengeance',\n",
       " 'Justice League: War',\n",
       " 'Batman Unlimited: Animal Instincts',\n",
       " 'All Star Superman',\n",
       " 'Superman/Batman: Public Enemies',\n",
       " 'Justice League: Crisis on Two Earths',\n",
       " 'Batman: Mystery of the Batwoman',\n",
       " 'Fantastic Four']"
      ]
     },
     "execution_count": 13,
     "metadata": {},
     "output_type": "execute_result"
    }
   ],
   "source": [
    "overview = movies_metadata.query('title==\"Megamind\"')['overview'].values[0]\n",
    "inference.search_text(overview, in_films=True)"
   ]
  },
  {
   "cell_type": "code",
   "execution_count": 18,
   "metadata": {
    "collapsed": false,
    "jupyter": {
     "outputs_hidden": false
    }
   },
   "outputs": [
    {
     "data": {
      "text/plain": [
       "['Ice Age',\n",
       " 'Shrek 2',\n",
       " 'Pirates of the Caribbean: The Curse of the Black Pearl',\n",
       " 'Monsters, Inc.',\n",
       " 'Frozen',\n",
       " 'How to Train Your Dragon 2',\n",
       " 'Cars',\n",
       " 'Despicable Me 2',\n",
       " 'Kung Fu Panda 2',\n",
       " 'Despicable Me']"
      ]
     },
     "execution_count": 18,
     "metadata": {},
     "output_type": "execute_result"
    }
   ],
   "source": [
    "inference.predict_next_movie(list_movies)"
   ]
  },
  {
   "cell_type": "code",
   "execution_count": 10,
   "metadata": {},
   "outputs": [
    {
     "data": {
      "text/plain": [
       "[\"Dante's Inferno: An Animated Epic\",\n",
       " 'A Glimpse Inside the Mind of Charles Swan III',\n",
       " '61*',\n",
       " 'The Ring Two',\n",
       " 'In Fear',\n",
       " 'Empire of Dreams: The Story of the Star Wars Trilogy',\n",
       " 'Source Code',\n",
       " 'I Am Bruce Lee',\n",
       " 'Roll Bounce',\n",
       " 'Fame']"
      ]
     },
     "execution_count": 10,
     "metadata": {},
     "output_type": "execute_result"
    }
   ],
   "source": [
    "inference.search_film_by_sequence_and_text(\n",
    "    list_movies,\n",
    "    'The film is about the princess in the tower, who was saved by the prince',\n",
    "    ration=0.1\n",
    ")"
   ]
  },
  {
   "cell_type": "code",
   "execution_count": null,
   "metadata": {},
   "outputs": [],
   "source": []
  }
 ],
 "metadata": {
  "kernelspec": {
   "display_name": "Python 3 (ipykernel)",
   "language": "python",
   "name": "python3"
  },
  "language_info": {
   "codemirror_mode": {
    "name": "ipython",
    "version": 3
   },
   "file_extension": ".py",
   "mimetype": "text/x-python",
   "name": "python",
   "nbconvert_exporter": "python",
   "pygments_lexer": "ipython3",
   "version": "3.10.14"
  }
 },
 "nbformat": 4,
 "nbformat_minor": 4
}
